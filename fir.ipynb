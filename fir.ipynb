{
 "cells": [
  {
   "cell_type": "code",
   "execution_count": 85,
   "metadata": {},
   "outputs": [],
   "source": [
    "import numpy as np\n",
    "import soundfile as sf\n",
    "import matplotlib.pyplot as plt\n",
    "from matplotlib.ticker import FuncFormatter\n",
    "from ipywidgets import widgets, interact, interactive, fixed, interact_manual\n",
    "from IPython.display import display\n",
    "import io\n",
    "\n",
    "def csch(x):\n",
    "    \"\"\"Compute the hyperbolic cosecant of x.\"\"\"\n",
    "    return 1 / np.sinh(x)\n",
    "\n",
    "def _normalh(x, length, a, b, c, d):\n",
    "    \"\"\"Compute the normalized hyperbolic weight.\"\"\"\n",
    "    y = x - d\n",
    "    if y == 0:\n",
    "        return 1  # The center coefficient\n",
    "    n = b * c\n",
    "    return np.arcsinh((2 * b * y) / (length / a)) * csch(\n",
    "        (2 * y) / ((length / a) * c)) / n\n",
    "\n",
    "normalh = np.vectorize(_normalh)\n",
    "\n",
    "\n",
    "def generate_filter_coefficients(length, a, b, c, d, window_type=None, beta=None):\n",
    "    \"\"\"Generate filter coefficients for the given length and parameters, optionally applying a window function.\"\"\"\n",
    "    if length % 2 == 0:\n",
    "        length += 1\n",
    "    mid = length // 2\n",
    "    x = np.arange(-mid, mid + 1)\n",
    "    weights = normalh(x, mid, a, b, c, d)\n",
    "    sum_weights = np.sum(np.abs(weights))\n",
    "    normalized_weights = weights / sum_weights\n",
    "\n",
    "    # Apply window function if specified\n",
    "    if window_type != \"none\":\n",
    "        if window_type == 'hamming':\n",
    "            window = np.hamming(length)\n",
    "        elif window_type == 'blackman':\n",
    "            window = np.blackman(length)\n",
    "        elif window_type == 'kaiser':\n",
    "            assert beta is not None, \"Beta value must be provided for Kaiser window\"\n",
    "            window = np.kaiser(length, beta)\n",
    "        else:\n",
    "            raise ValueError(\"Unsupported window type\")\n",
    "        # Applying the window to the filter coefficients\n",
    "        normalized_weights *= window\n",
    "\n",
    "    return normalized_weights\n",
    "\n",
    "\n",
    "def normh_ma(source, weights):\n",
    "    \"\"\"Apply a normalized hyperbolic moving average filter using generated coefficients.\"\"\"\n",
    "    \n",
    "    # Apply the convolution with the normalized weights\n",
    "    filtered = np.convolve(source, weights, mode='same')\n",
    "    return filtered\n",
    "\n",
    "\n",
    "def process_audio_file(input_file,\n",
    "                       output_file,\n",
    "                       weights):\n",
    "    \"\"\"Read an audio file, apply the filter, and write the output to a new file.\"\"\"\n",
    "    data, samplerate = sf.read(input_file)\n",
    "    if data.ndim > 1:\n",
    "        filtered_channels = []\n",
    "        for channel in range(data.shape[1]):\n",
    "            filtered_channel = normh_ma(data[:, channel],\n",
    "                                        weights)\n",
    "            filtered_channels.append(filtered_channel)\n",
    "        filtered_data = np.column_stack(filtered_channels)\n",
    "    else:\n",
    "        filtered_data = normh_ma(data,\n",
    "                                 weights)\n",
    "\n",
    "    sf.write(output_file, filtered_data, samplerate)\n",
    "\n",
    "\n",
    "\n",
    "def display_filter_responses(weights, samplerate, response_samples=2048):\n",
    "    \"\"\"Display the frequency and phase response of the filter.\"\"\"\n",
    "    w = np.fft.rfftfreq(response_samples, d=1 / samplerate)\n",
    "    h = np.fft.rfft(weights, n=response_samples)\n",
    "    amplitude_response = 20 * np.log10(\n",
    "        np.abs(h) + np.finfo(float).eps)  # Adding epsilon to avoid log(0)\n",
    "    phase_response = np.angle(h, deg=True)\n",
    "\n",
    "    plt.figure(figsize=(12, 6))\n",
    "\n",
    "    # Subplot for Frequency Response\n",
    "    plt.subplot(2, 1, 1)\n",
    "    plt.semilogx(w, amplitude_response)\n",
    "    plt.title('Frequency Response')\n",
    "    plt.xlabel('Frequency [Hz]')\n",
    "    plt.ylabel('Amplitude [dB]')\n",
    "    plt.grid(True, which='both', axis='both')\n",
    "    plt.ylim(bottom=-96, top=0)  # Setting y-axis limits from -96 dB to 0 dB\n",
    "    # Formatting frequency labels to display in decimal format\n",
    "    formatter = FuncFormatter(lambda x, _: f'{x:.0f}')\n",
    "    plt.gca().xaxis.set_major_formatter(formatter)\n",
    "\n",
    "    # Subplot for Phase Response\n",
    "    plt.subplot(2, 1, 2)\n",
    "    plt.semilogx(w, phase_response)\n",
    "    plt.title('Phase Response')\n",
    "    plt.xlabel('Frequency [Hz]')\n",
    "    plt.ylabel('Phase [Degrees]')\n",
    "    plt.grid(True, which='both', axis='both')\n",
    "    plt.gca().xaxis.set_major_formatter(\n",
    "        formatter)  # Apply the same formatter as the amplitude plot\n",
    "\n",
    "    plt.tight_layout()\n",
    "    plt.show()\n",
    "\n"
   ]
  },
  {
   "cell_type": "code",
   "execution_count": 86,
   "metadata": {},
   "outputs": [
    {
     "data": {
      "application/vnd.jupyter.widget-view+json": {
       "model_id": "94312b0b81ee4a4b99e3af8346dbea21",
       "version_major": 2,
       "version_minor": 0
      },
      "text/plain": [
       "Dropdown(description='Window Type:', index=1, options=('none', 'hamming', 'blackman', 'kaiser'), value='hammin…"
      ]
     },
     "metadata": {},
     "output_type": "display_data"
    },
    {
     "data": {
      "application/vnd.jupyter.widget-view+json": {
       "model_id": "585fe563304e4058ba91a8bc7d1cd7e6",
       "version_major": 2,
       "version_minor": 0
      },
      "text/plain": [
       "FloatSlider(value=5.0, description='Beta:', max=20.0, tooltip='Beta value for Kaiser window')"
      ]
     },
     "metadata": {},
     "output_type": "display_data"
    },
    {
     "data": {
      "application/vnd.jupyter.widget-view+json": {
       "model_id": "49a4b4e700e646749551d23fd977cdc2",
       "version_major": 2,
       "version_minor": 0
      },
      "text/plain": [
       "IntSlider(value=16, description='Filter Length:', max=512, min=2, tooltip='Length of filter, as well as a in d…"
      ]
     },
     "metadata": {},
     "output_type": "display_data"
    },
    {
     "data": {
      "application/vnd.jupyter.widget-view+json": {
       "model_id": "2128a66721d24b82b02429e9f10baad1",
       "version_major": 2,
       "version_minor": 0
      },
      "text/plain": [
       "FloatSlider(value=0.0, description='Offset:', max=1.0, min=-1.0, tooltip='Distribution mean:Changed the center…"
      ]
     },
     "metadata": {},
     "output_type": "display_data"
    },
    {
     "data": {
      "application/vnd.jupyter.widget-view+json": {
       "model_id": "4faa5c7d201e44b98f920c39e06d9bba",
       "version_major": 2,
       "version_minor": 0
      },
      "text/plain": [
       "FloatLogSlider(value=1.0, base=2.0, description='Peak Height:', max=10.0, min=-10.0, tooltip='Steepness of cur…"
      ]
     },
     "metadata": {},
     "output_type": "display_data"
    },
    {
     "data": {
      "application/vnd.jupyter.widget-view+json": {
       "model_id": "7f1a6d5d8f7444e6b8a87de816c65c19",
       "version_major": 2,
       "version_minor": 0
      },
      "text/plain": [
       "FloatLogSlider(value=1.0, base=2.0, description='Tail Length:', max=6.0, min=-6.0, tooltip='Tail length value …"
      ]
     },
     "metadata": {},
     "output_type": "display_data"
    },
    {
     "data": {
      "application/vnd.jupyter.widget-view+json": {
       "model_id": "d018b373469446fab1ad9c59c5bda74c",
       "version_major": 2,
       "version_minor": 0
      },
      "text/plain": [
       "FloatLogSlider(value=1.0, base=2.0, description='Scale Factor:', max=10.0, min=-10.0, tooltip='Do be scalin yo…"
      ]
     },
     "metadata": {},
     "output_type": "display_data"
    },
    {
     "data": {
      "application/vnd.jupyter.widget-view+json": {
       "model_id": "751a30f066e94f8b9bfaf4e5548d8700",
       "version_major": 2,
       "version_minor": 0
      },
      "text/plain": [
       "Output()"
      ]
     },
     "metadata": {},
     "output_type": "display_data"
    },
    {
     "data": {
      "application/vnd.jupyter.widget-view+json": {
       "model_id": "92dd759dc6dd45e9b4ca67a83eef6f5e",
       "version_major": 2,
       "version_minor": 0
      },
      "text/plain": [
       "FileUpload(value=(), accept='.wav', description='Select an audio file', tooltip='The audio file to be filtered…"
      ]
     },
     "metadata": {},
     "output_type": "display_data"
    },
    {
     "data": {
      "application/vnd.jupyter.widget-view+json": {
       "model_id": "64cba3955ad54987a69dbb4771256b64",
       "version_major": 2,
       "version_minor": 0
      },
      "text/plain": [
       "Text(value='filtered_audio.wav', description='Output File:', tooltip='The name of the output file, in the same…"
      ]
     },
     "metadata": {},
     "output_type": "display_data"
    },
    {
     "data": {
      "application/vnd.jupyter.widget-view+json": {
       "model_id": "731ed51cbf214c59916d848785595e8d",
       "version_major": 2,
       "version_minor": 0
      },
      "text/plain": [
       "Button(description='Process Audio File', style=ButtonStyle())"
      ]
     },
     "metadata": {},
     "output_type": "display_data"
    }
   ],
   "source": [
    "import io\n",
    "import numpy as np\n",
    "import soundfile as sf\n",
    "import matplotlib.pyplot as plt\n",
    "from matplotlib.ticker import FuncFormatter\n",
    "from ipywidgets import widgets, Output\n",
    "from IPython.display import display, clear_output\n",
    "\n",
    "window_options = [\"none\", \"hamming\", \"blackman\", \"kaiser\"]\n",
    "\n",
    "widget_window_type = widgets.Dropdown(\n",
    "    options=window_options,\n",
    "    value=\"hamming\",\n",
    "    description=\"Window Type:\",\n",
    "    disabled=False,\n",
    ")\n",
    "\n",
    "filter_length = widgets.IntSlider(\n",
    "    value=16,\n",
    "    min=2,\n",
    "    max=512,\n",
    "    description=\"Filter Length:\",\n",
    "    tooltip=(\"Length of filter, as well as a in distribution. As value \"\n",
    "             \"increases, change in concavity moves away from 0 and magnitude \"\n",
    "             \"of concavity decreases.\"))\n",
    "\n",
    "offset = widgets.FloatSlider(\n",
    "    value=0,\n",
    "    min=-1,\n",
    "    max=1,\n",
    "    description=\"Offset:\",\n",
    "    tooltip=\"Distribution mean:\"\n",
    "                \"Changed the center of the distribution to an arbitrary point. \"\n",
    "                \"Messes shtz up yo.\")\n",
    "\n",
    "beta = widgets.FloatSlider(\n",
    "    value=5,\n",
    "    min=0,\n",
    "    max=20,\n",
    "    description=\"Beta:\",\n",
    "    tooltip=\"Beta value for Kaiser window\",\n",
    ")\n",
    "\n",
    "scale = widgets.FloatLogSlider(\n",
    "    value=1,\n",
    "    base=2,\n",
    "    min=-10,\n",
    "    max=10,\n",
    "    description=\"Scale Factor:\",\n",
    "    tooltip=(\"Do be scalin yo\"))\n",
    "\n",
    "peak_height = widgets.FloatLogSlider(\n",
    "    value=1,\n",
    "    base=2,\n",
    "    min=-10,\n",
    "    max=10,\n",
    "    description=\"Peak Height:\",\n",
    "    tooltip=(\"Steepness of curve of the distribution. Change of concavity \"\n",
    "             \"approaches 0 and magnitude of concavity increases as value \"\n",
    "             \"increases.\"))\n",
    "\n",
    "tail_length = widgets.FloatLogSlider(\n",
    "    value=1,\n",
    "    base=2,\n",
    "    min=-6,\n",
    "    max=6,\n",
    "    description=\"Tail Length:\",\n",
    "    tooltip=(\"Tail length value for the hyperbolic distribution. Largely \"\n",
    "             \"decreases the magnitude of concavity as value increases, but is \"\n",
    "             \"non-monotonic.\"))\n",
    "\n",
    "\n",
    "output = Output()\n",
    "\n",
    "# def update_widgets(change):\n",
    "#     if widget_window_type.value == 'kaiser':\n",
    "#         beta.layout.display = 'block'\n",
    "#     else:\n",
    "#         beta.layout.display = 'none'\n",
    "\n",
    "\n",
    "def update_graph(*args):\n",
    "    with output:\n",
    "        clear_output(wait=True)\n",
    "        weights = generate_filter_coefficients(filter_length.value,\n",
    "                                               scale.value,\n",
    "                                               peak_height.value,\n",
    "                                               tail_length.value,\n",
    "                                               offset.value * filter_length.value,\n",
    "                                               widget_window_type.value,\n",
    "                                               beta=beta.value)\n",
    "        display_filter_responses(weights, 44100)\n",
    "\n",
    "\n",
    "def do_processing(*args):\n",
    "    with output:\n",
    "        uploaded_file = input_file.value[-1][\"content\"]\n",
    "        data, samplerate = sf.read(io.BytesIO(uploaded_file))\n",
    "        weights = generate_filter_coefficients(filter_length.value,\n",
    "                                               scale.value,\n",
    "                                               peak_height.value,\n",
    "                                               tail_length.value,\n",
    "                                               offset.value * filter_length.value,\n",
    "                                               widget_window_type.value,\n",
    "                                               beta=beta.value)\n",
    "        process_audio_file(input_file.value[-1][\"name\"], output_file.value, weights)\n",
    "\n",
    "\n",
    "input_file = widgets.FileUpload(accept=\".wav\",\n",
    "                                multiple=False,\n",
    "                                description=\"Select an audio file\",\n",
    "                                tooltip=\"The audio file to be filtered\")\n",
    "output_file = widgets.Text(\n",
    "    value=\"filtered_audio.wav\",\n",
    "    description=\"Output File:\",\n",
    "    disabled=False,\n",
    "    tooltip=(\"The name of the output file, in the same directory as the \"\n",
    "             \"input file\"))\n",
    "process_file = widgets.Button(description=\"Process Audio File\")\n",
    "# widget_window_type.observe(update_widgets, names='value')\n",
    "filter_length.observe(update_graph, names='value')\n",
    "offset.observe(update_graph, names='value')\n",
    "beta.observe(update_graph, names='value')\n",
    "peak_height.observe(update_graph, names='value')\n",
    "tail_length.observe(update_graph, names='value')\n",
    "widget_window_type.observe(update_graph, names='value')\n",
    "scale.observe(update_graph, names='value')\n",
    "\n",
    "# Display widgets\n",
    "display(widget_window_type, beta, filter_length, offset, peak_height, tail_length, scale)\n",
    "display(output)\n",
    "display(input_file, output_file, process_file)\n",
    "process_file.on_click(do_processing)\n"
   ]
  }
 ],
 "metadata": {
  "kernelspec": {
   "display_name": "hyper",
   "language": "python",
   "name": "python3"
  },
  "language_info": {
   "codemirror_mode": {
    "name": "ipython",
    "version": 3
   },
   "file_extension": ".py",
   "mimetype": "text/x-python",
   "name": "python",
   "nbconvert_exporter": "python",
   "pygments_lexer": "ipython3",
   "version": "3.12.1"
  }
 },
 "nbformat": 4,
 "nbformat_minor": 2
}
